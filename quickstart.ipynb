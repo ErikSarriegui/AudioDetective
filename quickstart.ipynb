{
 "cells": [
  {
   "cell_type": "code",
   "execution_count": null,
   "metadata": {},
   "outputs": [],
   "source": [
    "\"\"\"\n",
    "Este cuaderno sirve para ejecutar de forma rápida un pipeline con una UI de gradio y realizar pruebas rápidas.\n",
    "\n",
    "IMPORTANTE -> Si no estás en Colab debes comentar o eliminar las siguientes 4 líneas y hacerlo de forma manual\n",
    "\"\"\"\n",
    "!git clone https://github.com/ErikSarriegui/AudioDetective\n",
    "%cd AudioDetective\n",
    "!pip install -r requirements.txt\n",
    "!pip install -q gradio\n",
    "\n",
    "#------------#\n",
    "HF_TOKEN = \"YOUR_HUGGINGFACE_TOKEN_HERE\"\n",
    "#------------#\n",
    "\n",
    "import gradio as gr\n",
    "import pandas as pd\n",
    "import pipeline, utils\n",
    "\n",
    "DOWNLOAD_DIR = \"downloads_dir\"\n",
    "DIARIZATION_DIR = \"diarization_dir\"\n",
    "OUTPUT_DIR = \"output\"\n",
    "\n",
    "def main(\n",
    "    input_url : str\n",
    ") -> str:\n",
    "  \"\"\"\n",
    "  Esta función es a la que llama gradio. utiliza el método\n",
    "  downloadAndTranscriptAudio() para transcribir el texto y\n",
    "  csv_to_text() para convertirlo en el string que se visualiza.\n",
    "\n",
    "  Args:\n",
    "    input_url : Es el url de youtube a transcribir\n",
    "\n",
    "  Devuelve:\n",
    "    El string creado por csv_to_text() para que gradio lo printee\n",
    "  \"\"\"\n",
    "  pipeline.downloadAndTranscriptAudio(\n",
    "      url_list = [input_url],\n",
    "      hf_token = HF_TOKEN,\n",
    "      downloaded_audios_dir = DOWNLOAD_DIR,\n",
    "      diarization_dir = DIARIZATION_DIR,\n",
    "      transcriptions_output_dir = OUTPUT_DIR\n",
    "  )\n",
    "\n",
    "  return utils.csv_to_text(OUTPUT_DIR)\n",
    "\n",
    "app = gr.Interface(\n",
    "    fn=main,\n",
    "    inputs=\"textbox\",\n",
    "    outputs=\"textbox\"\n",
    "    )\n",
    "\n",
    "if __name__ == \"__main__\":\n",
    "    app.launch(debug=True, share=True)"
   ]
  }
 ],
 "metadata": {
  "kernelspec": {
   "display_name": "Python 3",
   "language": "python",
   "name": "python3"
  },
  "language_info": {
   "name": "python",
   "version": "3.11.1"
  }
 },
 "nbformat": 4,
 "nbformat_minor": 2
}
