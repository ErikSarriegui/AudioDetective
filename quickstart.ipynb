{
 "cells": [
  {
   "cell_type": "code",
   "execution_count": null,
   "metadata": {},
   "outputs": [],
   "source": [
    "from data_engine import downloadAndTranscriptAudio\n",
    "\n",
    "HF_TOKEN = \"HF_TOKEN_HERE\"\n",
    "\n",
    "downloadAndTranscriptAudio(\n",
    "    url_list = [],\n",
    "    hf_token = HF_TOKEN,\n",
    "    downloaded_audios_dir = \"downloads\",\n",
    "    diarization_dir = \"diarized_audios\",\n",
    "    transcriptions_output_dir = \"output\"\n",
    ")"
   ]
  }
 ],
 "metadata": {
  "language_info": {
   "name": "python"
  }
 },
 "nbformat": 4,
 "nbformat_minor": 2
}
